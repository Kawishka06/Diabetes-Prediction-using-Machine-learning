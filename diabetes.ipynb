{
 "cells": [
  {
   "cell_type": "code",
   "execution_count": null,
   "id": "7a628d7a",
   "metadata": {},
   "outputs": [],
   "source": [
    "import numpy as np\n",
    "import pandas as pd\n",
    "import matplotlib.pyplot as plt\n",
    "from sklearn.ensemble import RandomForestClassifier\n",
    "from sklearn.preprocessing import LabelEncoder\n",
    "from sklearn.model_selection import train_test_split\n",
    "from sklearn.linear_model import LogisticRegression\n",
    "from sklearn.metrics import accuracy_score,precision_score,recall_score,f1_score\n",
    "from imblearn.over_sampling import SMOTE\n",
    "from xgboost import XGBClassifier"
   ]
  },
  {
   "cell_type": "code",
   "execution_count": null,
   "id": "0a8e488d",
   "metadata": {},
   "outputs": [],
   "source": [
    "df=pd.read_csv(\"Diabetes Classification.csv\")"
   ]
  },
  {
   "cell_type": "code",
   "execution_count": null,
   "id": "3933a4e4",
   "metadata": {},
   "outputs": [],
   "source": [
    "df.head()"
   ]
  },
  {
   "cell_type": "code",
   "execution_count": null,
   "id": "618fd759",
   "metadata": {},
   "outputs": [],
   "source": [
    "df.tail()"
   ]
  },
  {
   "cell_type": "code",
   "execution_count": null,
   "id": "def4d9d2",
   "metadata": {},
   "outputs": [],
   "source": [
    "df.shape"
   ]
  },
  {
   "cell_type": "code",
   "execution_count": null,
   "id": "c7e988dc",
   "metadata": {},
   "outputs": [],
   "source": [
    "df.describe()"
   ]
  },
  {
   "cell_type": "code",
   "execution_count": null,
   "id": "a3420cf5",
   "metadata": {},
   "outputs": [],
   "source": [
    "df.info()"
   ]
  },
  {
   "cell_type": "code",
   "execution_count": null,
   "id": "fd750709",
   "metadata": {},
   "outputs": [],
   "source": [
    "df.isnull().sum()"
   ]
  },
  {
   "cell_type": "code",
   "execution_count": null,
   "id": "bac6a994",
   "metadata": {},
   "outputs": [],
   "source": [
    "df['Diagnosis'].value_counts()"
   ]
  },
  {
   "cell_type": "code",
   "execution_count": null,
   "id": "2eccf1a0",
   "metadata": {},
   "outputs": [],
   "source": [
    "categorical_columns=['Gender']\n",
    "\n",
    "le=LabelEncoder()\n",
    "for col in categorical_columns:\n",
    "    df[col]=le.fit_transform(df[col])"
   ]
  },
  {
   "cell_type": "code",
   "execution_count": null,
   "id": "2e5d85be",
   "metadata": {},
   "outputs": [],
   "source": [
    "X=df.drop('Diagnosis',axis=1)\n",
    "y=df['Diagnosis']"
   ]
  },
  {
   "cell_type": "code",
   "execution_count": null,
   "id": "92ce2439",
   "metadata": {},
   "outputs": [],
   "source": [
    "X_train,X_test,y_train,y_test=train_test_split(X,y,test_size=0.2,random_state=42)"
   ]
  },
  {
   "cell_type": "code",
   "execution_count": null,
   "id": "a6388769",
   "metadata": {},
   "outputs": [],
   "source": [
    "sm = SMOTE(random_state=42)\n",
    "X_train_res, y_train_res = sm.fit_resample(X_train, y_train)\n"
   ]
  },
  {
   "cell_type": "code",
   "execution_count": null,
   "id": "da5131c0",
   "metadata": {},
   "outputs": [],
   "source": [
    "random_forest=RandomForestClassifier(\n",
    "    n_estimators=100,      # number of trees\n",
    "    max_depth=15,\n",
    "    class_weight='balanced',           # tree depth\n",
    "    random_state=42\n",
    ")"
   ]
  },
  {
   "cell_type": "code",
   "execution_count": null,
   "id": "1aa150bc",
   "metadata": {},
   "outputs": [],
   "source": [
    "random_forest.fit(X_train_res,y_train_res)"
   ]
  },
  {
   "cell_type": "code",
   "execution_count": null,
   "id": "bed9d137",
   "metadata": {},
   "outputs": [],
   "source": [
    "predict=random_forest.predict(X_test)"
   ]
  },
  {
   "cell_type": "code",
   "execution_count": null,
   "id": "d4e1022f",
   "metadata": {},
   "outputs": [],
   "source": [
    "model_accuracy=accuracy_score(y_test,predict)\n",
    "print(\"Model Accuracy: \",model_accuracy)\n",
    "\n",
    "model_precision=precision_score(y_test,predict)\n",
    "print(\"Model Precision: \",model_precision)\n",
    "\n",
    "model_recall=recall_score(y_test,predict)\n",
    "print(\"Model Recall Score: \",model_recall)\n",
    "\n",
    "model_f1=f1_score(y_test,predict)\n",
    "print(\"Model f1 score: \",model_f1)"
   ]
  },
  {
   "cell_type": "code",
   "execution_count": null,
   "id": "bf08406a",
   "metadata": {},
   "outputs": [],
   "source": [
    "xgboost_model=XGBClassifier(\n",
    "    n_estimators=300,\n",
    "    max_depth=5,\n",
    "    learning_rate=0.05,\n",
    "    scale_pos_weight=len(y_train[y_train==0]) / len(y_train[y_train==1]),  # balance classes\n",
    "    random_state=42,\n",
    "    use_label_encoder=False,\n",
    "    eval_metric=\"logloss\"\n",
    ")\n",
    "\n",
    "xgboost_model.fit(X_train_res,y_train_res)"
   ]
  },
  {
   "cell_type": "code",
   "execution_count": null,
   "id": "fe50f385",
   "metadata": {},
   "outputs": [],
   "source": [
    "xgb_predict=xgboost_model.predict(X_test)"
   ]
  },
  {
   "cell_type": "code",
   "execution_count": null,
   "id": "e4aad4de",
   "metadata": {},
   "outputs": [],
   "source": [
    "xgb_model_accuracy=accuracy_score(y_test,xgb_predict)\n",
    "print(\"Model Accuracy: \",xgb_model_accuracy)\n",
    "\n",
    "xgb_model_precision=precision_score(y_test,xgb_predict)\n",
    "print(\"Model Precision: \",xgb_model_precision)\n",
    "\n",
    "xgb_model_recall=recall_score(y_test,xgb_predict)\n",
    "print(\"Model Recall Score: \",xgb_model_recall)\n",
    "\n",
    "xgb_model_f1=f1_score(y_test,xgb_predict)\n",
    "print(\"Model f1 score: \",xgb_model_f1)"
   ]
  },
  {
   "cell_type": "code",
   "execution_count": null,
   "id": "2731f734",
   "metadata": {},
   "outputs": [],
   "source": [
    "from sklearn.metrics import precision_recall_curve\n",
    "import matplotlib.pyplot as plt\n",
    "\n",
    "y_probs = random_forest.predict_proba(X_test)[:, 1]\n",
    "precision, recall, thresholds = precision_recall_curve(y_test, y_probs)\n",
    "\n",
    "plt.plot(thresholds, precision[:-1], label=\"Precision\")\n",
    "plt.plot(thresholds, recall[:-1], label=\"Recall\")\n",
    "plt.xlabel(\"Threshold\")\n",
    "plt.ylabel(\"Score\")\n",
    "plt.legend()\n",
    "plt.show()"
   ]
  },
  {
   "cell_type": "code",
   "execution_count": null,
   "id": "ac90c796",
   "metadata": {},
   "outputs": [],
   "source": [
    "age=int(input(\"Enter age: \"))\n",
    "gender=input(\"Enter your gender (Male / Female): \")\n",
    "bmi=float(input(\"Enter your BMI: \"))\n",
    "chol=float(input(\"Enter your cholesterol level: \"))\n",
    "tg=float(input(\"Enter the TG level: \"))\n",
    "hdl=float(input(\"Enter the hdl level: \"))\n",
    "ldl=float(input(\"Enter the ldl level: \"))\n",
    "cr=float(input(\"Enter the cr level: \"))\n",
    "bun=float(input(\"Enter the BUN level: \"))\n",
    "\n",
    "gender_low=1 if gender.lower()=='male' else 0"
   ]
  },
  {
   "cell_type": "code",
   "execution_count": null,
   "id": "fcbb8e08",
   "metadata": {},
   "outputs": [],
   "source": [
    "user_input=np.array(\n",
    "    [\n",
    "        [age,gender_low,bmi,chol,tg,hdl,ldl,cr,bun]\n",
    "    ]\n",
    ")"
   ]
  },
  {
   "cell_type": "code",
   "execution_count": null,
   "id": "bf84a5f7",
   "metadata": {},
   "outputs": [],
   "source": [
    "predictions=xgboost_model.predict(user_input)"
   ]
  },
  {
   "cell_type": "code",
   "execution_count": null,
   "id": "ca533b0c",
   "metadata": {},
   "outputs": [],
   "source": [
    "print(\"Diagnosis Details: \\n\")\n",
    "print(\"Age: \",age,\"\\n\")\n",
    "print(\"Gender: \",gender,\"\\n\")\n",
    "print(\"BMI: \",bmi,\"\\n\")\n",
    "print(\"Cholesterol Level: \",chol,\"\\n\")\n",
    "print(\"TG level: \",tg,\"\\n\")\n",
    "print(\"HDL Level: \",hdl,\"\\n\")\n",
    "print(\"LDL Level: \",ldl,\"\\n\")\n",
    "print(\"CR level: \",cr,\"\\n\")\n",
    "print(\"BUN level: \",bun,\"\\n\")\n",
    "print(\"Possibility to have diabetes: \")\n",
    "\n",
    "\n",
    "if predictions[0] == 1:\n",
    "    print(\"The patient is likely to have diabetes.\")\n",
    "else:\n",
    "    print(\"The patient is unlikely to have diabetes.\")"
   ]
  },
  {
   "cell_type": "code",
   "execution_count": null,
   "id": "29a021ee",
   "metadata": {},
   "outputs": [],
   "source": [
    "probability = xgboost_model.predict_proba(user_input)\n",
    "\n",
    "no_disease_prob = probability[0][0] #no diabetes\n",
    "disease_prob = probability[0][1] #Probable diabetes patient"
   ]
  },
  {
   "cell_type": "code",
   "execution_count": null,
   "id": "29153a97",
   "metadata": {},
   "outputs": [],
   "source": [
    "labels = ['Non Diabetic', 'Diabetic']\n",
    "sizes = [no_disease_prob, disease_prob]\n",
    "colors = [\"#EFEFC5\",\"#A6B9FF\"]  # blue = healthy, red = risky\n",
    "\n",
    "\n",
    "plt.figure(figsize=(6,6))\n",
    "plt.pie(sizes, labels=labels, autopct='%1.1f%%', startangle=90, colors=colors)\n",
    "plt.title('Probability of Diabetes')\n",
    "plt.show()"
   ]
  },
  {
   "cell_type": "code",
   "execution_count": null,
   "id": "ea74a1df",
   "metadata": {},
   "outputs": [],
   "source": [
    "# Labels and probabilities\n",
    "labels = ['Non Diabetic', 'Diabetic']\n",
    "probabilities = [no_disease_prob, disease_prob]\n",
    "colors = [\"#789DC5\",\"#D594CD\"]  # blue = healthy, red = risky\n",
    "\n",
    "# Plot\n",
    "plt.figure(figsize=(8,6))\n",
    "plt.bar(labels, probabilities, color=colors)\n",
    "plt.ylim(0, 1)  # probability ranges from 0 to 1\n",
    "plt.ylabel('Probability')\n",
    "plt.title('Probability of Heart Disease')\n",
    "\n",
    "# Show probabilities on top of bars\n",
    "for i, v in enumerate(probabilities):\n",
    "    plt.text(i, v + 0.02, f\"{v*100:.1f}%\", ha='center', fontweight='bold')\n",
    "\n",
    "plt.show()"
   ]
  }
 ],
 "metadata": {
  "kernelspec": {
   "display_name": "Python 3",
   "language": "python",
   "name": "python3"
  },
  "language_info": {
   "codemirror_mode": {
    "name": "ipython",
    "version": 3
   },
   "file_extension": ".py",
   "mimetype": "text/x-python",
   "name": "python",
   "nbconvert_exporter": "python",
   "pygments_lexer": "ipython3",
   "version": "3.13.5"
  }
 },
 "nbformat": 4,
 "nbformat_minor": 5
}
